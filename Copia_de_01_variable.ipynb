{
  "nbformat": 4,
  "nbformat_minor": 0,
  "metadata": {
    "colab": {
      "provenance": [],
      "include_colab_link": true
    },
    "kernelspec": {
      "name": "python3",
      "display_name": "Python 3"
    },
    "language_info": {
      "name": "python"
    }
  },
  "cells": [
    {
      "cell_type": "markdown",
      "metadata": {
        "id": "view-in-github",
        "colab_type": "text"
      },
      "source": [
        "<a href=\"https://colab.research.google.com/github/YeshuaMahe/school-works/blob/main/Copia_de_01_variable.ipynb\" target=\"_parent\"><img src=\"https://colab.research.google.com/assets/colab-badge.svg\" alt=\"Open In Colab\"/></a>"
      ]
    },
    {
      "cell_type": "code",
      "execution_count": null,
      "metadata": {
        "id": "8msFqYhazNiL"
      },
      "outputs": [],
      "source": [
        "name = 'Yeshua'\n",
        "user_id = 5678910\n",
        "progress = 0.75\n",
        "exp = 70\n",
        "verified = True #bool / Booleano "
      ]
    },
    {
      "cell_type": "code",
      "source": [
        "xp = True\n",
        "xp = False"
      ],
      "metadata": {
        "id": "pr9ezY8b65hE"
      },
      "execution_count": null,
      "outputs": []
    },
    {
      "cell_type": "code",
      "source": [
        "year = 2023\n",
        "age = True"
      ],
      "metadata": {
        "id": "zviKCiTW1cZL"
      },
      "execution_count": null,
      "outputs": []
    },
    {
      "cell_type": "code",
      "source": [
        "pi = 3.141592\n",
        "appele_cost = 12.99"
      ],
      "metadata": {
        "id": "nrs9_gbu1kPa"
      },
      "execution_count": null,
      "outputs": []
    },
    {
      "cell_type": "code",
      "source": [
        "message = \"saludos a todos\"\n",
        "user = '@Yeshua'"
      ],
      "metadata": {
        "id": "OnHqZF2p7XlX"
      },
      "execution_count": null,
      "outputs": []
    },
    {
      "cell_type": "code",
      "source": [
        "approved = False\n",
        "late_to_class = True"
      ],
      "metadata": {
        "id": "rdsnE0NB8PhN"
      },
      "execution_count": null,
      "outputs": []
    },
    {
      "cell_type": "code",
      "source": [
        "#este es un comentario en nuestro codigo\n",
        "\"\"\"coments\"\"\""
      ],
      "metadata": {
        "id": "adiUI9vn8Yh3"
      },
      "execution_count": null,
      "outputs": []
    },
    {
      "cell_type": "code",
      "source": [
        "print(name, age, verified)"
      ],
      "metadata": {
        "id": "xccfrCrs8ueP"
      },
      "execution_count": null,
      "outputs": []
    },
    {
      "cell_type": "code",
      "source": [
        "#concatenacion \n",
        "print(\"este es un texto\", verified)"
      ],
      "metadata": {
        "id": "3cj25vmY81VU"
      },
      "execution_count": null,
      "outputs": []
    },
    {
      "cell_type": "code",
      "source": [
        "#imprimir tipo de dato\n",
        "print(type('hola mundo'))\n",
        "print(type(5))\n",
        "print(type(1.5))\n",
        "print(type(True))\n",
        "print(type(3 + 1))\n",
        "print(type([1, 2, 3]))\n",
        "print(type({name: 'Yeshua'}))"
      ],
      "metadata": {
        "id": "J5FNEPdy9HvU"
      },
      "execution_count": null,
      "outputs": []
    },
    {
      "cell_type": "code",
      "source": [
        "name, surname, alias, age = \"Yeshua\", \"eduardo\", \"Yumi\", 18\n",
        "\n",
        "print(\"Me llamo:\", name, surname)\n",
        "print(\"Mi edad es:\", age, \", Mis amigos me dicen:\", alias)"
      ],
      "metadata": {
        "id": "I3mBYDxm9-1a"
      },
      "execution_count": null,
      "outputs": []
    },
    {
      "cell_type": "code",
      "source": [
        "first_name = (input('¿como te llamas?'))\n",
        "age = (input('¿Cuantos años tienes?'))\n",
        "\n",
        "print(first_name, age)"
      ],
      "metadata": {
        "id": "BHuU5V_y41KE"
      },
      "execution_count": null,
      "outputs": []
    },
    {
      "cell_type": "code",
      "source": [
        "#FUNCIONES DEL SISTEMA\n",
        "my_int_variable = 4\n",
        "print(my_int_variable)\n",
        "print(type(my_int_variable))\n",
        "\n",
        "new_variable = str(my_int_variable)\n",
        "print(new_variable)\n",
        "print(type(new_variable))"
      ],
      "metadata": {
        "id": "QhDa1esB_cOZ"
      },
      "execution_count": null,
      "outputs": []
    }
  ]
}