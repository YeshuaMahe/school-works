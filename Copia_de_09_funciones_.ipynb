{
  "nbformat": 4,
  "nbformat_minor": 0,
  "metadata": {
    "colab": {
      "provenance": [],
      "include_colab_link": true
    },
    "kernelspec": {
      "name": "python3",
      "display_name": "Python 3"
    },
    "language_info": {
      "name": "python"
    }
  },
  "cells": [
    {
      "cell_type": "markdown",
      "metadata": {
        "id": "view-in-github",
        "colab_type": "text"
      },
      "source": [
        "<a href=\"https://colab.research.google.com/github/YeshuaMahe/school-works/blob/main/Copia_de_09_funciones_.ipynb\" target=\"_parent\"><img src=\"https://colab.research.google.com/assets/colab-badge.svg\" alt=\"Open In Colab\"/></a>"
      ]
    },
    {
      "cell_type": "code",
      "source": [
        "def adicion():\n",
        "  a = 2\n",
        "  b = 3\n",
        "  total = a + b"
      ],
      "metadata": {
        "id": "mSqQY6AJ77ha"
      },
      "execution_count": null,
      "outputs": []
    },
    {
      "cell_type": "code",
      "source": [
        "adicion()"
      ],
      "metadata": {
        "id": "umvBpWzT74YM"
      },
      "execution_count": null,
      "outputs": []
    },
    {
      "cell_type": "code",
      "execution_count": null,
      "metadata": {
        "id": "Co7-99ko6-XI"
      },
      "outputs": [],
      "source": [
        "def function_name():\n",
        "  code\n",
        "  code"
      ]
    },
    {
      "cell_type": "markdown",
      "source": [
        "**RETORNAR VALORES DE UNA FUNCION**"
      ],
      "metadata": {
        "id": "QeYZXP607Lml"
      }
    },
    {
      "cell_type": "code",
      "source": [
        "def adicion():\n",
        "a = 2\n",
        "b = 3\n",
        "total = a + b\n",
        "total = a + b\n",
        "return total"
      ],
      "metadata": {
        "id": "z-PNSnDk7P_3"
      },
      "execution_count": null,
      "outputs": []
    },
    {
      "cell_type": "code",
      "source": [
        "print(adicion())"
      ],
      "metadata": {
        "id": "qXUHEXcz7wSD"
      },
      "execution_count": null,
      "outputs": []
    },
    {
      "cell_type": "markdown",
      "source": [
        "**FUNCIONES CON PARAMETROS**"
      ],
      "metadata": {
        "id": "Lidc8sAz8PLc"
      }
    },
    {
      "cell_type": "code",
      "source": [
        "def adicion (a,b):\n",
        "  total = a+b\n",
        "  return total"
      ],
      "metadata": {
        "id": "sf4E714p8SIz"
      },
      "execution_count": null,
      "outputs": []
    },
    {
      "cell_type": "code",
      "source": [
        "print(adicion(1,2))"
      ],
      "metadata": {
        "id": "AKwMqXqk8cRr"
      },
      "execution_count": null,
      "outputs": []
    },
    {
      "cell_type": "markdown",
      "source": [
        "**ARGUMENTOS DE TIPO KEY:VALUE**"
      ],
      "metadata": {
        "id": "HKo-IiyB8qMB"
      }
    },
    {
      "cell_type": "code",
      "source": [
        "def person_info(name, lastname, career):\n",
        "  print(f'hola {name} {lastname}, Gracias por escoger la carrera de {career}')\n",
        "  "
      ],
      "metadata": {
        "id": "fLHZnx4w8v1y"
      },
      "execution_count": null,
      "outputs": []
    },
    {
      "cell_type": "code",
      "source": [
        "print(person_info(name='yeshua', lastname='mahe', career='ing en sistemas'))"
      ],
      "metadata": {
        "id": "3exXuXjW9Rlo"
      },
      "execution_count": null,
      "outputs": []
    },
    {
      "cell_type": "markdown",
      "source": [
        "**TIPOS DE VALORES A RETORNAR**"
      ],
      "metadata": {
        "id": "aVYzAIE19qKv"
      }
    },
    {
      "cell_type": "code",
      "source": [
        "def name(name):\n",
        "  return name \n",
        "\n",
        "  name('yeshua')"
      ],
      "metadata": {
        "id": "uOK0LvR29z_X"
      },
      "execution_count": null,
      "outputs": []
    },
    {
      "cell_type": "code",
      "source": [
        "#Booleanos\n",
        "def is_pair(n):\n",
        "  if n%2 == 0:\n",
        "    return True\n",
        "    return False\n",
        "\n",
        "  print(is_pair(8))\n",
        "  print(is_pair(5))"
      ],
      "metadata": {
        "id": "mF3DzKYn9_Lm"
      },
      "execution_count": null,
      "outputs": []
    },
    {
      "cell_type": "code",
      "source": [
        "#Listas\n",
        "def find_pair(n):\n",
        "  pairs = []\n",
        "  for i in range(n+1):\n",
        "    if i%2 == 0:\n",
        "      pairs.append(i)\n",
        "    return pairs\n",
        "\n",
        "   print(find_pair(10))"
      ],
      "metadata": {
        "id": "_2XCXiuE-a0F"
      },
      "execution_count": null,
      "outputs": []
    }
  ]
}