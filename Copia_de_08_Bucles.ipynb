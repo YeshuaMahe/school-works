{
  "nbformat": 4,
  "nbformat_minor": 0,
  "metadata": {
    "colab": {
      "provenance": [],
      "include_colab_link": true
    },
    "kernelspec": {
      "name": "python3",
      "display_name": "Python 3"
    },
    "language_info": {
      "name": "python"
    }
  },
  "cells": [
    {
      "cell_type": "markdown",
      "metadata": {
        "id": "view-in-github",
        "colab_type": "text"
      },
      "source": [
        "<a href=\"https://colab.research.google.com/github/YeshuaMahe/school-works/blob/main/Copia_de_08_Bucles.ipynb\" target=\"_parent\"><img src=\"https://colab.research.google.com/assets/colab-badge.svg\" alt=\"Open In Colab\"/></a>"
      ]
    },
    {
      "cell_type": "markdown",
      "source": [
        "**BUCLES/LOOPS/CICLOS**\n",
        "\n",
        "**WHILE**"
      ],
      "metadata": {
        "id": "B2jgAxnQ2hKu"
      }
    },
    {
      "cell_type": "code",
      "source": [
        "count = 0 \n",
        "while count < 5:\n",
        "   print(count)\n",
        "   count += 1"
      ],
      "metadata": {
        "id": "soFsbp-P2sCn"
      },
      "execution_count": null,
      "outputs": []
    },
    {
      "cell_type": "markdown",
      "source": [
        "**FOR**"
      ],
      "metadata": {
        "id": "iIx4ln2P3A2t"
      }
    },
    {
      "cell_type": "code",
      "source": [
        "numeros = [0, 1, 2, 3, 4, 5]\n",
        "for contador in numeros:\n",
        "  print(contador)"
      ],
      "metadata": {
        "id": "EYQNBcqG3DNF"
      },
      "execution_count": null,
      "outputs": []
    },
    {
      "cell_type": "code",
      "source": [
        "lenguaje = 'Python'\n",
        "#for letter in lenguaje:\n",
        "  #print(letter)\n",
        "\n",
        "for i in range(len(lenguaje)):\n",
        "  print(lenguaje[i])"
      ],
      "metadata": {
        "id": "1hsoOPL93zo1"
      },
      "execution_count": null,
      "outputs": []
    },
    {
      "cell_type": "code",
      "source": [
        "numbers = (0,1,2,3,4,5)\n",
        "for number in numbers:\n",
        "  print(number)"
      ],
      "metadata": {
        "id": "QhQJ8LNl4c86"
      },
      "execution_count": null,
      "outputs": []
    },
    {
      "cell_type": "code",
      "source": [
        "person = {\n",
        "    'name': 'yeshua',\n",
        "    'last_name': 'mahe',\n",
        "    'age': 18,\n",
        "    'skills': ['javascript', 'react', 'Python', 'Switf'].\n",
        "    'address': {\n",
        "        'street': 'El ticui',\n",
        "        'telefono':12345678\n",
        "    }\n",
        "}\n",
        "\n",
        "\n",
        "for key, value in person.items():\n",
        "  print('\\'key\\' : ',key,' \\'value:\\' ', value)"
      ],
      "metadata": {
        "id": "TVGOgGgJ4mXa"
      },
      "execution_count": null,
      "outputs": []
    }
  ]
}